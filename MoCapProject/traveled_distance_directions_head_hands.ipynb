{
 "cells": [
  {
   "cell_type": "code",
   "execution_count": 1,
   "metadata": {},
   "outputs": [],
   "source": [
    "import pandas as pd\n",
    "import numpy as np\n",
    "import matplotlib.pyplot as plt\n",
    "import scipy\n",
    "from scipy import stats"
   ]
  },
  {
   "cell_type": "code",
   "execution_count": 2,
   "metadata": {},
   "outputs": [],
   "source": [
    "P1_hhh_dir = pd.read_table(\"C:/Users/sarah/Desktop/W2023 MoCap Data/Motioncapture_tsv_files/P1_dist_traveled/conv_P1&2_edited_P1_hands_head_dist_traveled.tsv\", delimiter=\"\\t\", header = 0)\n",
    "P2_hhh_dir = pd.read_table(\"C:/Users/sarah/Desktop/W2023 MoCap Data/Motioncapture_tsv_files/P2_dist_traveled/conv_P2&1_e_P2_hands_head_dist_traveled.tsv\", delimiter=\"\\t\", header = 0)\n",
    "P3_hhh_dir = pd.read_table(\"C:/Users/sarah/Desktop/W2023 MoCap Data/Motioncapture_tsv_files/P3_dist_traveled/conv_P3&4_e_P3_hands_head_dist_traveled.tsv\", delimiter=\"\\t\", header = 0)\n",
    "P4_hhh_dir = pd.read_table(\"C:/Users/sarah/Desktop/W2023 MoCap Data/Motioncapture_tsv_files/P4_dist_traveled/conv_P4&3_e_P4_hands_head_dist_traveled.tsv\", delimiter=\"\\t\", header = 0)\n",
    "P5_hhh_dir = pd.read_table(\"C:/Users/sarah/Desktop/W2023 MoCap Data/Motioncapture_tsv_files/P5_dist_traveled/conv_P5&6_e_P5_hands_head_dist_traveled.tsv\", delimiter=\"\\t\", header = 0)\n",
    "P6_hhh_dir = pd.read_table(\"C:/Users/sarah/Desktop/W2023 MoCap Data/Motioncapture_tsv_files/P6_dist_traveled/conv_P6&5_e_P6_hands_head_dist_traveled.tsv\", delimiter=\"\\t\", header = 0)"
   ]
  },
  {
   "cell_type": "code",
   "execution_count": 3,
   "metadata": {},
   "outputs": [],
   "source": [
    "P1_hhh_dir = P1_hhh_dir[[\"Head_X\", \"Head_Y\", \"Head_Z\",\"LHand_X\", \"LHand_Y\", \"LHand_Z\", \"RHand_X\", \"RHand_Y\", \"RHand_Z\"]]\n",
    "P2_hhh_dir = P2_hhh_dir[[\"Head_X\", \"Head_Y\", \"Head_Z\",\"LHand_X\", \"LHand_Y\", \"LHand_Z\", \"RHand_X\", \"RHand_Y\", \"RHand_Z\"]]\n",
    "P3_hhh_dir = P3_hhh_dir[[\"Head_X\", \"Head_Y\", \"Head_Z\",\"LHand_X\", \"LHand_Y\", \"LHand_Z\", \"RHand_X\", \"RHand_Y\", \"RHand_Z\"]]\n",
    "P4_hhh_dir = P4_hhh_dir[[\"Head_X\", \"Head_Y\", \"Head_Z\",\"LHand_X\", \"LHand_Y\", \"LHand_Z\", \"RHand_X\", \"RHand_Y\", \"RHand_Z\"]]\n",
    "P5_hhh_dir = P5_hhh_dir[[\"Head_X\", \"Head_Y\", \"Head_Z\",\"LHand_X\", \"LHand_Y\", \"LHand_Z\", \"RHand_X\", \"RHand_Y\", \"RHand_Z\"]]\n",
    "P6_hhh_dir = P6_hhh_dir[[\"Head_X\", \"Head_Y\", \"Head_Z\",\"LHand_X\", \"LHand_Y\", \"LHand_Z\", \"RHand_X\", \"RHand_Y\", \"RHand_Z\"]]"
   ]
  },
  {
   "cell_type": "code",
   "execution_count": 5,
   "metadata": {},
   "outputs": [
    {
     "data": {
      "text/html": [
       "<div>\n",
       "<style scoped>\n",
       "    .dataframe tbody tr th:only-of-type {\n",
       "        vertical-align: middle;\n",
       "    }\n",
       "\n",
       "    .dataframe tbody tr th {\n",
       "        vertical-align: top;\n",
       "    }\n",
       "\n",
       "    .dataframe thead th {\n",
       "        text-align: right;\n",
       "    }\n",
       "</style>\n",
       "<table border=\"1\" class=\"dataframe\">\n",
       "  <thead>\n",
       "    <tr style=\"text-align: right;\">\n",
       "      <th></th>\n",
       "      <th>Head_X</th>\n",
       "      <th>Head_Y</th>\n",
       "      <th>Head_Z</th>\n",
       "      <th>LHand_X</th>\n",
       "      <th>LHand_Y</th>\n",
       "      <th>LHand_Z</th>\n",
       "      <th>RHand_X</th>\n",
       "      <th>RHand_Y</th>\n",
       "      <th>RHand_Z</th>\n",
       "    </tr>\n",
       "  </thead>\n",
       "  <tbody>\n",
       "    <tr>\n",
       "      <th>0</th>\n",
       "      <td>0.000</td>\n",
       "      <td>0.000</td>\n",
       "      <td>0.000</td>\n",
       "      <td>0.000</td>\n",
       "      <td>0.000</td>\n",
       "      <td>0.000</td>\n",
       "      <td>0.000</td>\n",
       "      <td>0.000</td>\n",
       "      <td>0.000</td>\n",
       "    </tr>\n",
       "    <tr>\n",
       "      <th>1</th>\n",
       "      <td>0.000</td>\n",
       "      <td>0.000</td>\n",
       "      <td>0.000</td>\n",
       "      <td>0.000</td>\n",
       "      <td>0.000</td>\n",
       "      <td>0.000</td>\n",
       "      <td>0.000</td>\n",
       "      <td>0.000</td>\n",
       "      <td>0.000</td>\n",
       "    </tr>\n",
       "    <tr>\n",
       "      <th>2</th>\n",
       "      <td>0.000</td>\n",
       "      <td>0.000</td>\n",
       "      <td>0.000</td>\n",
       "      <td>0.000</td>\n",
       "      <td>0.000</td>\n",
       "      <td>0.000</td>\n",
       "      <td>0.000</td>\n",
       "      <td>0.000</td>\n",
       "      <td>0.000</td>\n",
       "    </tr>\n",
       "    <tr>\n",
       "      <th>3</th>\n",
       "      <td>0.000</td>\n",
       "      <td>0.000</td>\n",
       "      <td>0.000</td>\n",
       "      <td>0.000</td>\n",
       "      <td>0.000</td>\n",
       "      <td>0.000</td>\n",
       "      <td>0.000</td>\n",
       "      <td>0.000</td>\n",
       "      <td>0.000</td>\n",
       "    </tr>\n",
       "    <tr>\n",
       "      <th>4</th>\n",
       "      <td>0.000</td>\n",
       "      <td>0.000</td>\n",
       "      <td>0.000</td>\n",
       "      <td>0.000</td>\n",
       "      <td>0.000</td>\n",
       "      <td>0.000</td>\n",
       "      <td>0.000</td>\n",
       "      <td>0.000</td>\n",
       "      <td>0.000</td>\n",
       "    </tr>\n",
       "    <tr>\n",
       "      <th>...</th>\n",
       "      <td>...</td>\n",
       "      <td>...</td>\n",
       "      <td>...</td>\n",
       "      <td>...</td>\n",
       "      <td>...</td>\n",
       "      <td>...</td>\n",
       "      <td>...</td>\n",
       "      <td>...</td>\n",
       "      <td>...</td>\n",
       "    </tr>\n",
       "    <tr>\n",
       "      <th>7549</th>\n",
       "      <td>3659.326</td>\n",
       "      <td>4521.533</td>\n",
       "      <td>1916.564</td>\n",
       "      <td>3954.753</td>\n",
       "      <td>4636.970</td>\n",
       "      <td>4240.793</td>\n",
       "      <td>4240.390</td>\n",
       "      <td>3477.696</td>\n",
       "      <td>3178.547</td>\n",
       "    </tr>\n",
       "    <tr>\n",
       "      <th>7550</th>\n",
       "      <td>3659.568</td>\n",
       "      <td>4521.848</td>\n",
       "      <td>1916.564</td>\n",
       "      <td>3955.290</td>\n",
       "      <td>4637.194</td>\n",
       "      <td>4241.030</td>\n",
       "      <td>4241.013</td>\n",
       "      <td>3477.900</td>\n",
       "      <td>3178.747</td>\n",
       "    </tr>\n",
       "    <tr>\n",
       "      <th>7551</th>\n",
       "      <td>3659.568</td>\n",
       "      <td>4522.149</td>\n",
       "      <td>1916.564</td>\n",
       "      <td>3955.942</td>\n",
       "      <td>4637.411</td>\n",
       "      <td>4241.030</td>\n",
       "      <td>4241.633</td>\n",
       "      <td>3477.900</td>\n",
       "      <td>3178.747</td>\n",
       "    </tr>\n",
       "    <tr>\n",
       "      <th>7552</th>\n",
       "      <td>3659.839</td>\n",
       "      <td>4522.436</td>\n",
       "      <td>1916.564</td>\n",
       "      <td>3956.481</td>\n",
       "      <td>4637.411</td>\n",
       "      <td>4241.328</td>\n",
       "      <td>4242.116</td>\n",
       "      <td>3477.900</td>\n",
       "      <td>3178.747</td>\n",
       "    </tr>\n",
       "    <tr>\n",
       "      <th>7553</th>\n",
       "      <td>3659.839</td>\n",
       "      <td>4522.690</td>\n",
       "      <td>1916.564</td>\n",
       "      <td>3957.022</td>\n",
       "      <td>4637.728</td>\n",
       "      <td>4241.328</td>\n",
       "      <td>4242.605</td>\n",
       "      <td>3478.207</td>\n",
       "      <td>3178.954</td>\n",
       "    </tr>\n",
       "  </tbody>\n",
       "</table>\n",
       "<p>7554 rows × 9 columns</p>\n",
       "</div>"
      ],
      "text/plain": [
       "        Head_X    Head_Y    Head_Z   LHand_X   LHand_Y   LHand_Z   RHand_X  \\\n",
       "0        0.000     0.000     0.000     0.000     0.000     0.000     0.000   \n",
       "1        0.000     0.000     0.000     0.000     0.000     0.000     0.000   \n",
       "2        0.000     0.000     0.000     0.000     0.000     0.000     0.000   \n",
       "3        0.000     0.000     0.000     0.000     0.000     0.000     0.000   \n",
       "4        0.000     0.000     0.000     0.000     0.000     0.000     0.000   \n",
       "...        ...       ...       ...       ...       ...       ...       ...   \n",
       "7549  3659.326  4521.533  1916.564  3954.753  4636.970  4240.793  4240.390   \n",
       "7550  3659.568  4521.848  1916.564  3955.290  4637.194  4241.030  4241.013   \n",
       "7551  3659.568  4522.149  1916.564  3955.942  4637.411  4241.030  4241.633   \n",
       "7552  3659.839  4522.436  1916.564  3956.481  4637.411  4241.328  4242.116   \n",
       "7553  3659.839  4522.690  1916.564  3957.022  4637.728  4241.328  4242.605   \n",
       "\n",
       "       RHand_Y   RHand_Z  \n",
       "0        0.000     0.000  \n",
       "1        0.000     0.000  \n",
       "2        0.000     0.000  \n",
       "3        0.000     0.000  \n",
       "4        0.000     0.000  \n",
       "...        ...       ...  \n",
       "7549  3477.696  3178.547  \n",
       "7550  3477.900  3178.747  \n",
       "7551  3477.900  3178.747  \n",
       "7552  3477.900  3178.747  \n",
       "7553  3478.207  3178.954  \n",
       "\n",
       "[7554 rows x 9 columns]"
      ]
     },
     "execution_count": 5,
     "metadata": {},
     "output_type": "execute_result"
    }
   ],
   "source": [
    "P1_hhh_dir"
   ]
  },
  {
   "cell_type": "code",
   "execution_count": 6,
   "metadata": {},
   "outputs": [],
   "source": [
    "P1_hhh_max = P1_hhh_dir[::-1]\n",
    "P1_hhh_max = P1_hhh_max.iloc[0].tolist()\n",
    "\n",
    "P2_hhh_max = P2_hhh_dir[::-1]\n",
    "P2_hhh_max = P2_hhh_max.iloc[0].tolist()\n",
    "\n",
    "P3_hhh_max = P3_hhh_dir[::-1]\n",
    "P3_hhh_max = P3_hhh_max.iloc[0].tolist()\n",
    "\n",
    "P4_hhh_max = P4_hhh_dir[::-1]\n",
    "P4_hhh_max = P4_hhh_max.iloc[0].tolist()\n",
    "\n",
    "P5_hhh_max = P5_hhh_dir[::-1]\n",
    "P5_hhh_max = P5_hhh_max.iloc[0].tolist()\n",
    "\n",
    "P6_hhh_max = P6_hhh_dir[::-1]\n",
    "P6_hhh_max = P6_hhh_max.iloc[0].tolist()\n"
   ]
  },
  {
   "cell_type": "code",
   "execution_count": 7,
   "metadata": {},
   "outputs": [],
   "source": [
    "hands_head_traveled = pd.DataFrame(list(zip(P1_hhh_max, P2_hhh_max, P3_hhh_max, P4_hhh_max, P5_hhh_max, P6_hhh_max)),columns=[\"1\", \"2\", \"3\", \"4\", \"5\", \"6\"])"
   ]
  },
  {
   "cell_type": "code",
   "execution_count": 8,
   "metadata": {},
   "outputs": [
    {
     "data": {
      "text/html": [
       "<div>\n",
       "<style scoped>\n",
       "    .dataframe tbody tr th:only-of-type {\n",
       "        vertical-align: middle;\n",
       "    }\n",
       "\n",
       "    .dataframe tbody tr th {\n",
       "        vertical-align: top;\n",
       "    }\n",
       "\n",
       "    .dataframe thead th {\n",
       "        text-align: right;\n",
       "    }\n",
       "</style>\n",
       "<table border=\"1\" class=\"dataframe\">\n",
       "  <thead>\n",
       "    <tr style=\"text-align: right;\">\n",
       "      <th></th>\n",
       "      <th>1</th>\n",
       "      <th>2</th>\n",
       "      <th>3</th>\n",
       "      <th>4</th>\n",
       "      <th>5</th>\n",
       "      <th>6</th>\n",
       "    </tr>\n",
       "  </thead>\n",
       "  <tbody>\n",
       "    <tr>\n",
       "      <th>0</th>\n",
       "      <td>3659.839</td>\n",
       "      <td>4207.737</td>\n",
       "      <td>1419.916</td>\n",
       "      <td>2562.476</td>\n",
       "      <td>1556.639</td>\n",
       "      <td>1275.448</td>\n",
       "    </tr>\n",
       "    <tr>\n",
       "      <th>1</th>\n",
       "      <td>4522.690</td>\n",
       "      <td>3899.569</td>\n",
       "      <td>2272.612</td>\n",
       "      <td>3833.238</td>\n",
       "      <td>1722.066</td>\n",
       "      <td>1524.853</td>\n",
       "    </tr>\n",
       "    <tr>\n",
       "      <th>2</th>\n",
       "      <td>1916.564</td>\n",
       "      <td>2205.362</td>\n",
       "      <td>604.604</td>\n",
       "      <td>1175.194</td>\n",
       "      <td>930.637</td>\n",
       "      <td>897.074</td>\n",
       "    </tr>\n",
       "    <tr>\n",
       "      <th>3</th>\n",
       "      <td>3957.022</td>\n",
       "      <td>2278.803</td>\n",
       "      <td>1139.089</td>\n",
       "      <td>1062.721</td>\n",
       "      <td>676.662</td>\n",
       "      <td>3035.620</td>\n",
       "    </tr>\n",
       "    <tr>\n",
       "      <th>4</th>\n",
       "      <td>4637.728</td>\n",
       "      <td>3454.276</td>\n",
       "      <td>1602.953</td>\n",
       "      <td>3923.274</td>\n",
       "      <td>1699.852</td>\n",
       "      <td>3314.304</td>\n",
       "    </tr>\n",
       "    <tr>\n",
       "      <th>5</th>\n",
       "      <td>4241.328</td>\n",
       "      <td>2458.267</td>\n",
       "      <td>1612.198</td>\n",
       "      <td>1651.975</td>\n",
       "      <td>806.218</td>\n",
       "      <td>5745.531</td>\n",
       "    </tr>\n",
       "    <tr>\n",
       "      <th>6</th>\n",
       "      <td>4242.605</td>\n",
       "      <td>5552.719</td>\n",
       "      <td>3260.960</td>\n",
       "      <td>1771.543</td>\n",
       "      <td>781.740</td>\n",
       "      <td>1624.406</td>\n",
       "    </tr>\n",
       "    <tr>\n",
       "      <th>7</th>\n",
       "      <td>3478.207</td>\n",
       "      <td>5908.211</td>\n",
       "      <td>4241.876</td>\n",
       "      <td>2155.818</td>\n",
       "      <td>1329.006</td>\n",
       "      <td>2158.859</td>\n",
       "    </tr>\n",
       "    <tr>\n",
       "      <th>8</th>\n",
       "      <td>3178.954</td>\n",
       "      <td>4175.732</td>\n",
       "      <td>2308.297</td>\n",
       "      <td>1368.030</td>\n",
       "      <td>881.851</td>\n",
       "      <td>2955.905</td>\n",
       "    </tr>\n",
       "  </tbody>\n",
       "</table>\n",
       "</div>"
      ],
      "text/plain": [
       "          1         2         3         4         5         6\n",
       "0  3659.839  4207.737  1419.916  2562.476  1556.639  1275.448\n",
       "1  4522.690  3899.569  2272.612  3833.238  1722.066  1524.853\n",
       "2  1916.564  2205.362   604.604  1175.194   930.637   897.074\n",
       "3  3957.022  2278.803  1139.089  1062.721   676.662  3035.620\n",
       "4  4637.728  3454.276  1602.953  3923.274  1699.852  3314.304\n",
       "5  4241.328  2458.267  1612.198  1651.975   806.218  5745.531\n",
       "6  4242.605  5552.719  3260.960  1771.543   781.740  1624.406\n",
       "7  3478.207  5908.211  4241.876  2155.818  1329.006  2158.859\n",
       "8  3178.954  4175.732  2308.297  1368.030   881.851  2955.905"
      ]
     },
     "execution_count": 8,
     "metadata": {},
     "output_type": "execute_result"
    }
   ],
   "source": [
    "hands_head_traveled"
   ]
  },
  {
   "cell_type": "code",
   "execution_count": 9,
   "metadata": {},
   "outputs": [],
   "source": [
    "hands_head_traveled = hands_head_traveled.T"
   ]
  },
  {
   "cell_type": "code",
   "execution_count": 10,
   "metadata": {},
   "outputs": [],
   "source": [
    "hands_head_traveled.columns=[\"Head_X\", \"Head_Y\", \"Head_Z\",\"LHand_X\", \"LHand_Y\", \"LHand_Z\", \"RHand_X\", \"RHand_Y\", \"RHand_Z\"]"
   ]
  },
  {
   "cell_type": "code",
   "execution_count": 11,
   "metadata": {},
   "outputs": [
    {
     "data": {
      "text/html": [
       "<div>\n",
       "<style scoped>\n",
       "    .dataframe tbody tr th:only-of-type {\n",
       "        vertical-align: middle;\n",
       "    }\n",
       "\n",
       "    .dataframe tbody tr th {\n",
       "        vertical-align: top;\n",
       "    }\n",
       "\n",
       "    .dataframe thead th {\n",
       "        text-align: right;\n",
       "    }\n",
       "</style>\n",
       "<table border=\"1\" class=\"dataframe\">\n",
       "  <thead>\n",
       "    <tr style=\"text-align: right;\">\n",
       "      <th></th>\n",
       "      <th>Head_X</th>\n",
       "      <th>Head_Y</th>\n",
       "      <th>Head_Z</th>\n",
       "      <th>LHand_X</th>\n",
       "      <th>LHand_Y</th>\n",
       "      <th>LHand_Z</th>\n",
       "      <th>RHand_X</th>\n",
       "      <th>RHand_Y</th>\n",
       "      <th>RHand_Z</th>\n",
       "    </tr>\n",
       "  </thead>\n",
       "  <tbody>\n",
       "    <tr>\n",
       "      <th>1</th>\n",
       "      <td>3659.839</td>\n",
       "      <td>4522.690</td>\n",
       "      <td>1916.564</td>\n",
       "      <td>3957.022</td>\n",
       "      <td>4637.728</td>\n",
       "      <td>4241.328</td>\n",
       "      <td>4242.605</td>\n",
       "      <td>3478.207</td>\n",
       "      <td>3178.954</td>\n",
       "    </tr>\n",
       "    <tr>\n",
       "      <th>2</th>\n",
       "      <td>4207.737</td>\n",
       "      <td>3899.569</td>\n",
       "      <td>2205.362</td>\n",
       "      <td>2278.803</td>\n",
       "      <td>3454.276</td>\n",
       "      <td>2458.267</td>\n",
       "      <td>5552.719</td>\n",
       "      <td>5908.211</td>\n",
       "      <td>4175.732</td>\n",
       "    </tr>\n",
       "    <tr>\n",
       "      <th>3</th>\n",
       "      <td>1419.916</td>\n",
       "      <td>2272.612</td>\n",
       "      <td>604.604</td>\n",
       "      <td>1139.089</td>\n",
       "      <td>1602.953</td>\n",
       "      <td>1612.198</td>\n",
       "      <td>3260.960</td>\n",
       "      <td>4241.876</td>\n",
       "      <td>2308.297</td>\n",
       "    </tr>\n",
       "    <tr>\n",
       "      <th>4</th>\n",
       "      <td>2562.476</td>\n",
       "      <td>3833.238</td>\n",
       "      <td>1175.194</td>\n",
       "      <td>1062.721</td>\n",
       "      <td>3923.274</td>\n",
       "      <td>1651.975</td>\n",
       "      <td>1771.543</td>\n",
       "      <td>2155.818</td>\n",
       "      <td>1368.030</td>\n",
       "    </tr>\n",
       "    <tr>\n",
       "      <th>5</th>\n",
       "      <td>1556.639</td>\n",
       "      <td>1722.066</td>\n",
       "      <td>930.637</td>\n",
       "      <td>676.662</td>\n",
       "      <td>1699.852</td>\n",
       "      <td>806.218</td>\n",
       "      <td>781.740</td>\n",
       "      <td>1329.006</td>\n",
       "      <td>881.851</td>\n",
       "    </tr>\n",
       "    <tr>\n",
       "      <th>6</th>\n",
       "      <td>1275.448</td>\n",
       "      <td>1524.853</td>\n",
       "      <td>897.074</td>\n",
       "      <td>3035.620</td>\n",
       "      <td>3314.304</td>\n",
       "      <td>5745.531</td>\n",
       "      <td>1624.406</td>\n",
       "      <td>2158.859</td>\n",
       "      <td>2955.905</td>\n",
       "    </tr>\n",
       "  </tbody>\n",
       "</table>\n",
       "</div>"
      ],
      "text/plain": [
       "     Head_X    Head_Y    Head_Z   LHand_X   LHand_Y   LHand_Z   RHand_X  \\\n",
       "1  3659.839  4522.690  1916.564  3957.022  4637.728  4241.328  4242.605   \n",
       "2  4207.737  3899.569  2205.362  2278.803  3454.276  2458.267  5552.719   \n",
       "3  1419.916  2272.612   604.604  1139.089  1602.953  1612.198  3260.960   \n",
       "4  2562.476  3833.238  1175.194  1062.721  3923.274  1651.975  1771.543   \n",
       "5  1556.639  1722.066   930.637   676.662  1699.852   806.218   781.740   \n",
       "6  1275.448  1524.853   897.074  3035.620  3314.304  5745.531  1624.406   \n",
       "\n",
       "    RHand_Y   RHand_Z  \n",
       "1  3478.207  3178.954  \n",
       "2  5908.211  4175.732  \n",
       "3  4241.876  2308.297  \n",
       "4  2155.818  1368.030  \n",
       "5  1329.006   881.851  \n",
       "6  2158.859  2955.905  "
      ]
     },
     "execution_count": 11,
     "metadata": {},
     "output_type": "execute_result"
    }
   ],
   "source": [
    "hands_head_traveled"
   ]
  },
  {
   "cell_type": "code",
   "execution_count": 12,
   "metadata": {},
   "outputs": [],
   "source": [
    "hands_head_traveled_mean = hands_head_traveled.mean()"
   ]
  },
  {
   "cell_type": "code",
   "execution_count": 13,
   "metadata": {},
   "outputs": [
    {
     "name": "stdout",
     "output_type": "stream",
     "text": [
      "Head_X     2447.009167\n",
      "Head_Y     2962.504667\n",
      "Head_Z     1288.239167\n",
      "LHand_X    2024.986167\n",
      "LHand_Y    3105.397833\n",
      "LHand_Z    2752.586167\n",
      "RHand_X    2872.328833\n",
      "RHand_Y    3211.996167\n",
      "RHand_Z    2478.128167\n",
      "dtype: float64\n"
     ]
    }
   ],
   "source": [
    "print(hands_head_traveled_mean)"
   ]
  },
  {
   "cell_type": "code",
   "execution_count": 14,
   "metadata": {},
   "outputs": [],
   "source": [
    "P1_Angle = pd.read_table(\"C:/Users/sarah/Desktop/W2023 MoCap Data/Motioncapture_tsv_files/P1_dist_traveled/conv_P1&2_edited_P1_Angle.tsv\", delimiter=\"\\t\", header = 0)\n",
    "P2_Angle = pd.read_table(\"C:/Users/sarah/Desktop/W2023 MoCap Data/Motioncapture_tsv_files/P2_dist_traveled/conv_P2&1_e_P2_Angle.tsv\", delimiter=\"\\t\", header = 0)\n",
    "P3_Angle = pd.read_table(\"C:/Users/sarah/Desktop/W2023 MoCap Data/Motioncapture_tsv_files/P3_dist_traveled/conv_P3&4_e_P3_Angle.tsv\", delimiter=\"\\t\", header = 0)\n",
    "P4_Angle = pd.read_table(\"C:/Users/sarah/Desktop/W2023 MoCap Data/Motioncapture_tsv_files/P4_dist_traveled/conv_P4&3_e_P4_Angle.tsv\", delimiter=\"\\t\", header = 0)\n",
    "P5_Angle = pd.read_table(\"C:/Users/sarah/Desktop/W2023 MoCap Data/Motioncapture_tsv_files/P5_dist_traveled/conv_P5&6_e_P5_Angle.tsv\", delimiter=\"\\t\", header = 0)\n",
    "P6_Angle = pd.read_table(\"C:/Users/sarah/Desktop/W2023 MoCap Data/Motioncapture_tsv_files/P6_dist_traveled/conv_P6&5_e_P6_Angle.tsv\", delimiter=\"\\t\", header = 0)"
   ]
  },
  {
   "cell_type": "code",
   "execution_count": 2,
   "metadata": {},
   "outputs": [],
   "source": [
    "P1_Angle_l = pd.read_table(\"C:/Users/sarah/Desktop/W2023 MoCap Data/Motioncapture_tsv_files/P1_dist_traveled/conv_P1&2_edited_P1_Angle_l.tsv\", delimiter=\"\\t\", header = 0)\n",
    "P1_Angle_r = pd.read_table(\"C:/Users/sarah/Desktop/W2023 MoCap Data/Motioncapture_tsv_files/P1_dist_traveled/conv_P1&2_edited_P1_Angle_r.tsv\", delimiter=\"\\t\", header = 0)\n",
    "\n",
    "P2_Angle_l = pd.read_table(\"C:/Users/sarah/Desktop/W2023 MoCap Data/Motioncapture_tsv_files/P2_dist_traveled/conv_P2&1_e_P2_Angle_l.tsv\", delimiter=\"\\t\", header = 0)\n",
    "P2_Angle_r = pd.read_table(\"C:/Users/sarah/Desktop/W2023 MoCap Data/Motioncapture_tsv_files/P2_dist_traveled/conv_P2&1_e_P2_Angle_r.tsv\", delimiter=\"\\t\", header = 0)\n",
    "\n",
    "P3_Angle_l = pd.read_table(\"C:/Users/sarah/Desktop/W2023 MoCap Data/Motioncapture_tsv_files/P3_dist_traveled/conv_P3&4_e_P3_Angle_l.tsv\", delimiter=\"\\t\", header = 0)\n",
    "P3_Angle_r = pd.read_table(\"C:/Users/sarah/Desktop/W2023 MoCap Data/Motioncapture_tsv_files/P3_dist_traveled/conv_P3&4_e_P3_Angle_r.tsv\", delimiter=\"\\t\", header = 0)\n",
    "\n",
    "P4_Angle_l = pd.read_table(\"C:/Users/sarah/Desktop/W2023 MoCap Data/Motioncapture_tsv_files/P4_dist_traveled/conv_P4&3_e_P4_Angle_l.tsv\", delimiter=\"\\t\", header = 0)\n",
    "P4_Angle_r = pd.read_table(\"C:/Users/sarah/Desktop/W2023 MoCap Data/Motioncapture_tsv_files/P4_dist_traveled/conv_P4&3_e_P4_Angle_r.tsv\", delimiter=\"\\t\", header = 0)\n",
    "\n",
    "P5_Angle_l = pd.read_table(\"C:/Users/sarah/Desktop/W2023 MoCap Data/Motioncapture_tsv_files/P5_dist_traveled/conv_P5&6_e_P5_Angle_l.tsv\", delimiter=\"\\t\", header = 0)\n",
    "P5_Angle_r = pd.read_table(\"C:/Users/sarah/Desktop/W2023 MoCap Data/Motioncapture_tsv_files/P5_dist_traveled/conv_P5&6_e_P5_Angle_r.tsv\", delimiter=\"\\t\", header = 0)\n",
    "\n",
    "P6_Angle_l = pd.read_table(\"C:/Users/sarah/Desktop/W2023 MoCap Data/Motioncapture_tsv_files/P6_dist_traveled/conv_P6&5_e_P6_Angle_l.tsv\", delimiter=\"\\t\", header = 0)\n",
    "P6_Angle_r = pd.read_table(\"C:/Users/sarah/Desktop/W2023 MoCap Data/Motioncapture_tsv_files/P6_dist_traveled/conv_P6&5_e_P6_Angle_r.tsv\", delimiter=\"\\t\", header = 0)"
   ]
  },
  {
   "cell_type": "code",
   "execution_count": 3,
   "metadata": {},
   "outputs": [],
   "source": [
    "#P1_Angle_mean = np.mean(P1_Angle).tolist()\n",
    "\n",
    "P1_Angle_l_median = np.median(P1_Angle_l).tolist()\n",
    "P1_Angle_r_median = np.median(P1_Angle_r).tolist()\n",
    "\n",
    "P1_Angle_l_max = np.max(P1_Angle_l).tolist()\n",
    "P1_Angle_r_max = np.max(P1_Angle_r).tolist()\n",
    "\n",
    "P1_Angle_l_min = np.min(P1_Angle_l).tolist()\n",
    "P1_Angle_r_min = np.min(P1_Angle_r).tolist()\n",
    "#P1_Angle_harmonic_mean = (scipy.stats.hmean(P1_Angle)).tolist()"
   ]
  },
  {
   "cell_type": "code",
   "execution_count": 4,
   "metadata": {},
   "outputs": [],
   "source": [
    "#P2_Angle_mean = np.mean(P2_Angle).tolist()\n",
    "P2_Angle_l_median = np.median(P2_Angle_l).tolist()\n",
    "P2_Angle_r_median = np.median(P2_Angle_r).tolist()\n",
    "\n",
    "P2_Angle_l_max = np.max(P2_Angle_l).tolist()\n",
    "P2_Angle_r_max = np.max(P2_Angle_r).tolist()\n",
    "\n",
    "P2_Angle_l_min = np.min(P2_Angle_l).tolist()\n",
    "P2_Angle_r_min = np.min(P2_Angle_r).tolist()\n",
    "#P2_Angle_harmonic_mean = (scipy.stats.hmean(P2_Angle)).tolist()"
   ]
  },
  {
   "cell_type": "code",
   "execution_count": 5,
   "metadata": {},
   "outputs": [],
   "source": [
    "#P3_Angle_mean = np.mean(P3_Angle).tolist()\n",
    "P3_Angle_l_median = np.median(P3_Angle_l).tolist()\n",
    "P3_Angle_r_median = np.median(P3_Angle_r).tolist()\n",
    "\n",
    "P3_Angle_l_max = np.max(P3_Angle_l).tolist()\n",
    "P3_Angle_r_max = np.max(P3_Angle_r).tolist()\n",
    "\n",
    "P3_Angle_l_min = np.min(P3_Angle_l).tolist()\n",
    "P3_Angle_r_min = np.min(P3_Angle_r).tolist()\n",
    "#P3_Angle_harmonic_mean = (scipy.stats.hmean(P3_Angle)).tolist()"
   ]
  },
  {
   "cell_type": "code",
   "execution_count": 6,
   "metadata": {},
   "outputs": [],
   "source": [
    "#P4_Angle_mean = np.mean(P4_Angle).tolist()\n",
    "P4_Angle_l_median = np.median(P4_Angle_l).tolist()\n",
    "P4_Angle_r_median = np.median(P4_Angle_r).tolist()\n",
    "\n",
    "P4_Angle_l_max = np.max(P4_Angle_l).tolist()\n",
    "P4_Angle_r_max = np.max(P4_Angle_r).tolist()\n",
    "\n",
    "P4_Angle_l_min = np.min(P4_Angle_l).tolist()\n",
    "P4_Angle_r_min = np.min(P4_Angle_r).tolist()\n",
    "#P4_Angle_harmonic_mean = (scipy.stats.hmean(P4_Angle)).tolist()"
   ]
  },
  {
   "cell_type": "code",
   "execution_count": 7,
   "metadata": {},
   "outputs": [],
   "source": [
    "#P5_Angle_mean = np.mean(P5_Angle).tolist()\n",
    "P5_Angle_l_median = np.median(P5_Angle_l).tolist()\n",
    "P5_Angle_r_median = np.median(P5_Angle_r).tolist()\n",
    "\n",
    "P5_Angle_l_max = np.max(P5_Angle_l).tolist()\n",
    "P5_Angle_r_max = np.max(P5_Angle_r).tolist()\n",
    "\n",
    "P5_Angle_l_min = np.min(P5_Angle_l).tolist()\n",
    "P5_Angle_r_min = np.min(P5_Angle_r).tolist()\n",
    "#P5_Angle_harmonic_mean = (scipy.stats.hmean(P5_Angle)).tolist()"
   ]
  },
  {
   "cell_type": "code",
   "execution_count": 8,
   "metadata": {},
   "outputs": [],
   "source": [
    "#P6_Angle_mean = np.mean(P6_Angle).tolist()\n",
    "P6_Angle_l_median = np.median(P6_Angle_l).tolist()\n",
    "P6_Angle_r_median = np.median(P6_Angle_r).tolist()\n",
    "\n",
    "P6_Angle_l_max = np.max(P6_Angle_l).tolist()\n",
    "P6_Angle_r_max = np.max(P6_Angle_r).tolist()\n",
    "\n",
    "P6_Angle_l_min = np.min(P6_Angle_l).tolist()\n",
    "P6_Angle_r_min = np.min(P6_Angle_r).tolist()\n",
    "#P6_Angle_harmonic_mean = (scipy.stats.hmean(P6_Angle)).tolist()"
   ]
  },
  {
   "cell_type": "code",
   "execution_count": 9,
   "metadata": {},
   "outputs": [],
   "source": [
    "P1_values = [P1_Angle_l_median, P1_Angle_r_median, P1_Angle_l_max, P1_Angle_r_max, P1_Angle_l_min, P1_Angle_r_min]\n",
    "P2_values = [P2_Angle_l_median, P2_Angle_r_median, P2_Angle_l_max, P2_Angle_r_max, P2_Angle_l_min, P2_Angle_r_min]\n",
    "P3_values = [P3_Angle_l_median, P3_Angle_r_median, P3_Angle_l_max, P3_Angle_r_max, P3_Angle_l_min, P3_Angle_r_min]\n",
    "P4_values = [P4_Angle_l_median, P4_Angle_r_median, P4_Angle_l_max, P4_Angle_r_max, P4_Angle_l_min, P4_Angle_r_min]\n",
    "P5_values = [P5_Angle_l_median, P5_Angle_r_median, P5_Angle_l_max, P5_Angle_r_max, P5_Angle_l_min, P5_Angle_r_min]\n",
    "P6_values = [P6_Angle_l_median, P6_Angle_r_median, P6_Angle_l_max, P6_Angle_r_max, P6_Angle_l_min, P6_Angle_r_min]"
   ]
  },
  {
   "cell_type": "code",
   "execution_count": 21,
   "metadata": {},
   "outputs": [],
   "source": [
    "#P1_values = [P1_Angle_mean, P1_Angle_median, P1_Angle_max, P1_Angle_min]\n",
    "#P2_values = [P2_Angle_mean, P2_Angle_median,P2_Angle_max, P2_Angle_min]\n",
    "#P3_values = [P3_Angle_mean, P3_Angle_median,P3_Angle_max, P3_Angle_min]\n",
    "#P4_values = [P4_Angle_mean, P4_Angle_median, P4_Angle_max, P4_Angle_min]\n",
    "#P5_values = [P5_Angle_mean, P5_Angle_median, P5_Angle_max, P5_Angle_min]\n",
    "#P6_values = [P6_Angle_mean, P6_Angle_median, P6_Angle_max, P6_Angle_min]"
   ]
  },
  {
   "cell_type": "code",
   "execution_count": 10,
   "metadata": {},
   "outputs": [],
   "source": [
    "Angles_df = pd.DataFrame(list(zip(P1_values, P2_values, P3_values, P4_values, P5_values, P6_values)),columns=[\"1\", \"2\", \"3\", \"4\", \"5\", \"6\"])"
   ]
  },
  {
   "cell_type": "code",
   "execution_count": 11,
   "metadata": {},
   "outputs": [],
   "source": [
    "Angles_df = Angles_df.T"
   ]
  },
  {
   "cell_type": "code",
   "execution_count": 12,
   "metadata": {},
   "outputs": [],
   "source": [
    "Angles_df.columns=[\"median_l\", \"median_r\",\"max_l\",\"max_r\", \"min_l\", \"min_r\"]"
   ]
  },
  {
   "cell_type": "code",
   "execution_count": 13,
   "metadata": {},
   "outputs": [
    {
     "data": {
      "text/html": [
       "<div>\n",
       "<style scoped>\n",
       "    .dataframe tbody tr th:only-of-type {\n",
       "        vertical-align: middle;\n",
       "    }\n",
       "\n",
       "    .dataframe tbody tr th {\n",
       "        vertical-align: top;\n",
       "    }\n",
       "\n",
       "    .dataframe thead th {\n",
       "        text-align: right;\n",
       "    }\n",
       "</style>\n",
       "<table border=\"1\" class=\"dataframe\">\n",
       "  <thead>\n",
       "    <tr style=\"text-align: right;\">\n",
       "      <th></th>\n",
       "      <th>median_l</th>\n",
       "      <th>median_r</th>\n",
       "      <th>max_l</th>\n",
       "      <th>max_r</th>\n",
       "      <th>min_l</th>\n",
       "      <th>min_r</th>\n",
       "    </tr>\n",
       "  </thead>\n",
       "  <tbody>\n",
       "    <tr>\n",
       "      <th>1</th>\n",
       "      <td>58.3100</td>\n",
       "      <td>70.2290</td>\n",
       "      <td>119.862</td>\n",
       "      <td>113.880</td>\n",
       "      <td>25.199</td>\n",
       "      <td>29.847</td>\n",
       "    </tr>\n",
       "    <tr>\n",
       "      <th>2</th>\n",
       "      <td>67.5890</td>\n",
       "      <td>69.1750</td>\n",
       "      <td>94.173</td>\n",
       "      <td>121.868</td>\n",
       "      <td>31.115</td>\n",
       "      <td>27.305</td>\n",
       "    </tr>\n",
       "    <tr>\n",
       "      <th>3</th>\n",
       "      <td>101.1945</td>\n",
       "      <td>97.7935</td>\n",
       "      <td>112.728</td>\n",
       "      <td>110.734</td>\n",
       "      <td>45.001</td>\n",
       "      <td>88.528</td>\n",
       "    </tr>\n",
       "    <tr>\n",
       "      <th>4</th>\n",
       "      <td>87.0820</td>\n",
       "      <td>97.7790</td>\n",
       "      <td>105.444</td>\n",
       "      <td>112.801</td>\n",
       "      <td>75.543</td>\n",
       "      <td>45.074</td>\n",
       "    </tr>\n",
       "    <tr>\n",
       "      <th>5</th>\n",
       "      <td>91.7410</td>\n",
       "      <td>101.4890</td>\n",
       "      <td>93.971</td>\n",
       "      <td>108.333</td>\n",
       "      <td>89.128</td>\n",
       "      <td>93.969</td>\n",
       "    </tr>\n",
       "    <tr>\n",
       "      <th>6</th>\n",
       "      <td>93.8285</td>\n",
       "      <td>98.8340</td>\n",
       "      <td>101.849</td>\n",
       "      <td>105.743</td>\n",
       "      <td>40.638</td>\n",
       "      <td>55.258</td>\n",
       "    </tr>\n",
       "  </tbody>\n",
       "</table>\n",
       "</div>"
      ],
      "text/plain": [
       "   median_l  median_r    max_l    max_r   min_l   min_r\n",
       "1   58.3100   70.2290  119.862  113.880  25.199  29.847\n",
       "2   67.5890   69.1750   94.173  121.868  31.115  27.305\n",
       "3  101.1945   97.7935  112.728  110.734  45.001  88.528\n",
       "4   87.0820   97.7790  105.444  112.801  75.543  45.074\n",
       "5   91.7410  101.4890   93.971  108.333  89.128  93.969\n",
       "6   93.8285   98.8340  101.849  105.743  40.638  55.258"
      ]
     },
     "execution_count": 13,
     "metadata": {},
     "output_type": "execute_result"
    }
   ],
   "source": [
    "Angles_df"
   ]
  },
  {
   "cell_type": "code",
   "execution_count": 27,
   "metadata": {},
   "outputs": [],
   "source": [
    "#Angles_df[\"range\"] = Angles_df[\"max\"] - Angles_df[\"min\"]"
   ]
  },
  {
   "cell_type": "code",
   "execution_count": 14,
   "metadata": {},
   "outputs": [],
   "source": [
    "def compute_IQR(data):\n",
    "    Q1 = np.quantile(data, 0.25)\n",
    "    Q3 = np.quantile(data, 0.75)\n",
    "    IQR = Q3-Q1\n",
    "    return IQR"
   ]
  },
  {
   "cell_type": "code",
   "execution_count": 16,
   "metadata": {},
   "outputs": [],
   "source": [
    "P1_l_iqr = compute_IQR(P1_Angle_l)\n",
    "P1_r_iqr = compute_IQR(P1_Angle_r)\n",
    "\n",
    "P2_l_iqr = compute_IQR(P2_Angle_l)\n",
    "P2_r_iqr = compute_IQR(P2_Angle_r)\n",
    "\n",
    "P3_r_iqr = compute_IQR(P3_Angle_r)\n",
    "P3_l_iqr = compute_IQR(P3_Angle_l)\n",
    "\n",
    "P4_r_iqr = compute_IQR(P4_Angle_r)\n",
    "P4_l_iqr = compute_IQR(P4_Angle_l)\n",
    "\n",
    "P5_r_iqr = compute_IQR(P5_Angle_r)\n",
    "P5_l_iqr = compute_IQR(P5_Angle_l)\n",
    "\n",
    "P6_r_iqr = compute_IQR(P6_Angle_r)\n",
    "P6_l_iqr = compute_IQR(P6_Angle_l)"
   ]
  },
  {
   "cell_type": "code",
   "execution_count": 18,
   "metadata": {},
   "outputs": [],
   "source": [
    "IQR_left = [P1_l_iqr, P2_l_iqr, P3_l_iqr, P4_l_iqr, P5_l_iqr, P6_l_iqr]\n",
    "IQR_right = [P1_r_iqr, P2_r_iqr,P3_r_iqr,P4_r_iqr,P5_r_iqr,P6_r_iqr]"
   ]
  },
  {
   "cell_type": "code",
   "execution_count": 19,
   "metadata": {},
   "outputs": [],
   "source": [
    "Angles_df[\"IQR_left\"]=IQR_left\n",
    "Angles_df[\"IQR_right\"]=IQR_right"
   ]
  },
  {
   "cell_type": "code",
   "execution_count": 20,
   "metadata": {},
   "outputs": [
    {
     "data": {
      "text/html": [
       "<div>\n",
       "<style scoped>\n",
       "    .dataframe tbody tr th:only-of-type {\n",
       "        vertical-align: middle;\n",
       "    }\n",
       "\n",
       "    .dataframe tbody tr th {\n",
       "        vertical-align: top;\n",
       "    }\n",
       "\n",
       "    .dataframe thead th {\n",
       "        text-align: right;\n",
       "    }\n",
       "</style>\n",
       "<table border=\"1\" class=\"dataframe\">\n",
       "  <thead>\n",
       "    <tr style=\"text-align: right;\">\n",
       "      <th></th>\n",
       "      <th>median_l</th>\n",
       "      <th>median_r</th>\n",
       "      <th>max_l</th>\n",
       "      <th>max_r</th>\n",
       "      <th>min_l</th>\n",
       "      <th>min_r</th>\n",
       "      <th>IQR_left</th>\n",
       "      <th>IQR_right</th>\n",
       "    </tr>\n",
       "  </thead>\n",
       "  <tbody>\n",
       "    <tr>\n",
       "      <th>1</th>\n",
       "      <td>58.3100</td>\n",
       "      <td>70.2290</td>\n",
       "      <td>119.862</td>\n",
       "      <td>113.880</td>\n",
       "      <td>25.199</td>\n",
       "      <td>29.847</td>\n",
       "      <td>36.5370</td>\n",
       "      <td>42.50950</td>\n",
       "    </tr>\n",
       "    <tr>\n",
       "      <th>2</th>\n",
       "      <td>67.5890</td>\n",
       "      <td>69.1750</td>\n",
       "      <td>94.173</td>\n",
       "      <td>121.868</td>\n",
       "      <td>31.115</td>\n",
       "      <td>27.305</td>\n",
       "      <td>15.5215</td>\n",
       "      <td>42.76700</td>\n",
       "    </tr>\n",
       "    <tr>\n",
       "      <th>3</th>\n",
       "      <td>101.1945</td>\n",
       "      <td>97.7935</td>\n",
       "      <td>112.728</td>\n",
       "      <td>110.734</td>\n",
       "      <td>45.001</td>\n",
       "      <td>88.528</td>\n",
       "      <td>2.4800</td>\n",
       "      <td>4.20750</td>\n",
       "    </tr>\n",
       "    <tr>\n",
       "      <th>4</th>\n",
       "      <td>87.0820</td>\n",
       "      <td>97.7790</td>\n",
       "      <td>105.444</td>\n",
       "      <td>112.801</td>\n",
       "      <td>75.543</td>\n",
       "      <td>45.074</td>\n",
       "      <td>3.9410</td>\n",
       "      <td>3.63800</td>\n",
       "    </tr>\n",
       "    <tr>\n",
       "      <th>5</th>\n",
       "      <td>91.7410</td>\n",
       "      <td>101.4890</td>\n",
       "      <td>93.971</td>\n",
       "      <td>108.333</td>\n",
       "      <td>89.128</td>\n",
       "      <td>93.969</td>\n",
       "      <td>0.5650</td>\n",
       "      <td>3.15400</td>\n",
       "    </tr>\n",
       "    <tr>\n",
       "      <th>6</th>\n",
       "      <td>93.8285</td>\n",
       "      <td>98.8340</td>\n",
       "      <td>101.849</td>\n",
       "      <td>105.743</td>\n",
       "      <td>40.638</td>\n",
       "      <td>55.258</td>\n",
       "      <td>20.8140</td>\n",
       "      <td>4.79425</td>\n",
       "    </tr>\n",
       "  </tbody>\n",
       "</table>\n",
       "</div>"
      ],
      "text/plain": [
       "   median_l  median_r    max_l    max_r   min_l   min_r  IQR_left  IQR_right\n",
       "1   58.3100   70.2290  119.862  113.880  25.199  29.847   36.5370   42.50950\n",
       "2   67.5890   69.1750   94.173  121.868  31.115  27.305   15.5215   42.76700\n",
       "3  101.1945   97.7935  112.728  110.734  45.001  88.528    2.4800    4.20750\n",
       "4   87.0820   97.7790  105.444  112.801  75.543  45.074    3.9410    3.63800\n",
       "5   91.7410  101.4890   93.971  108.333  89.128  93.969    0.5650    3.15400\n",
       "6   93.8285   98.8340  101.849  105.743  40.638  55.258   20.8140    4.79425"
      ]
     },
     "execution_count": 20,
     "metadata": {},
     "output_type": "execute_result"
    }
   ],
   "source": [
    "Angles_df"
   ]
  },
  {
   "cell_type": "code",
   "execution_count": 21,
   "metadata": {},
   "outputs": [],
   "source": [
    "Angles_df.to_excel(\"Angles_df_new.xlsx\")"
   ]
  },
  {
   "cell_type": "code",
   "execution_count": null,
   "metadata": {},
   "outputs": [
    {
     "data": {
      "image/png": "[encoded data removed]",
      "text/plain": [
       "<Figure size 2000x1000 with 1 Axes>"
      ]
     },
     "metadata": {},
     "output_type": "display_data"
    }
   ],
   "source": [
    "plt.figure(figsize=(20,10))\n",
    "\n",
    "# plot polar axis\n",
    "ax = plt.subplot(111, polar=True)\n",
    "\n",
    "# remove grid\n",
    "plt.axis('off')\n",
    "\n",
    "# Set the coordinates limits\n",
    "upperLimit = 100\n",
    "lowerLimit = 30\n",
    "\n",
    "# Compute max and min in the dataset\n",
    "max = Angles_df['range'].max()\n",
    "\n",
    "# Let's compute heights: they are a conversion of each item value in those new coordinates\n",
    "# In our example, 0 in the dataset will be converted to the lowerLimit (10)\n",
    "# The maximum will be converted to the upperLimit (100)\n",
    "slope = (max - lowerLimit) / max\n",
    "heights = slope * Angles_df.range + lowerLimit\n",
    "\n",
    "# Compute the width of each bar. In total we have 2*Pi = 360°\n",
    "width = 2*np.pi / len(Angles_df.index)\n",
    "\n",
    "# Compute the angle each bar is centered on:\n",
    "indexes = list(range(1, len(Angles_df.index)+1))\n",
    "angles = [element * width for element in indexes]\n",
    "angles\n",
    "\n",
    "# Draw bars\n",
    "bars = ax.bar(\n",
    "    x=angles, \n",
    "    height=heights, \n",
    "    width=width, \n",
    "    bottom=lowerLimit,\n",
    "    linewidth=2, \n",
    "    edgecolor=\"white\")\n"
   ]
  },
  {
   "cell_type": "code",
   "execution_count": null,
   "metadata": {},
   "outputs": [
    {
     "data": {
      "image/png": "[encoded data removed]",
      "text/plain": [
       "<Figure size 640x480 with 1 Axes>"
      ]
     },
     "metadata": {},
     "output_type": "display_data"
    }
   ],
   "source": [
    "fig, ax = plt.subplots()\n",
    "participants = [\"P1\", \"P2\", \"P3\", \"P4\", \"P5\", \"P6\"]\n",
    "plt.bar(participants, Angles_df['range'])\n",
    "ax.set_xlabel(\"Participants\")\n",
    "ax.set_ylabel(\"range of change in posture (degree)\")\n",
    "ax.set_ylim(0,100)\n",
    "ax.set_title(\"Angle between hand, elbow and shoulder\")\n",
    "plt.savefig(\"Angle_HES_boxplot.png\")"
   ]
  },
  {
   "cell_type": "code",
   "execution_count": 23,
   "metadata": {},
   "outputs": [],
   "source": [
    "P1_vel = pd.read_table(\"C:/Users/sarah/Desktop/W2023 MoCap Data/Motioncapture_tsv_files/P1_dist_traveled/conv_P1&2_edited_P1_vel.tsv\", delimiter=\"\\t\", header = 0)\n",
    "P2_vel = pd.read_table(\"C:/Users/sarah/Desktop/W2023 MoCap Data/Motioncapture_tsv_files/P2_dist_traveled/conv_P2&1_e_P2_vel.tsv\", delimiter=\"\\t\", header = 0)\n",
    "P3_vel = pd.read_table(\"C:/Users/sarah/Desktop/W2023 MoCap Data/Motioncapture_tsv_files/P3_dist_traveled/conv_P3&4_e_P3_vel.tsv\", delimiter=\"\\t\", header = 0)\n",
    "P4_vel = pd.read_table(\"C:/Users/sarah/Desktop/W2023 MoCap Data/Motioncapture_tsv_files/P4_dist_traveled/conv_P4&3_e_P4_vel.tsv\", delimiter=\"\\t\", header = 0)\n",
    "P5_vel = pd.read_table(\"C:/Users/sarah/Desktop/W2023 MoCap Data/Motioncapture_tsv_files/P5_dist_traveled/conv_P5&6_e_P5_vel.tsv\", delimiter=\"\\t\", header = 0)\n",
    "P6_vel = pd.read_table(\"C:/Users/sarah/Desktop/W2023 MoCap Data/Motioncapture_tsv_files/P6_dist_traveled/conv_P6&5_e_P6_vel.tsv\", delimiter=\"\\t\", header = 0) "
   ]
  },
  {
   "cell_type": "code",
   "execution_count": 24,
   "metadata": {},
   "outputs": [],
   "source": [
    "P1_vel = P1_vel[[\"Head\", \"LHand\", \"RHand\"]]\n",
    "P2_vel = P2_vel[[\"Head\", \"LHand\", \"RHand\"]]\n",
    "P3_vel = P3_vel[[\"Head\", \"LHand\", \"RHand\"]]\n",
    "P4_vel = P4_vel[[\"Head\", \"LHand\", \"RHand\"]]\n",
    "P5_vel = P5_vel[[\"Head\", \"LHand\", \"RHand\"]]\n",
    "P6_vel = P6_vel[[\"Head\", \"LHand\", \"RHand\"]]"
   ]
  },
  {
   "cell_type": "code",
   "execution_count": 39,
   "metadata": {},
   "outputs": [
    {
     "data": {
      "text/html": [
       "<div>\n",
       "<style scoped>\n",
       "    .dataframe tbody tr th:only-of-type {\n",
       "        vertical-align: middle;\n",
       "    }\n",
       "\n",
       "    .dataframe tbody tr th {\n",
       "        vertical-align: top;\n",
       "    }\n",
       "\n",
       "    .dataframe thead th {\n",
       "        text-align: right;\n",
       "    }\n",
       "</style>\n",
       "<table border=\"1\" class=\"dataframe\">\n",
       "  <thead>\n",
       "    <tr style=\"text-align: right;\">\n",
       "      <th></th>\n",
       "      <th>Head</th>\n",
       "      <th>LHand</th>\n",
       "      <th>RHand</th>\n",
       "    </tr>\n",
       "  </thead>\n",
       "  <tbody>\n",
       "    <tr>\n",
       "      <th>0</th>\n",
       "      <td>0.000</td>\n",
       "      <td>0.000</td>\n",
       "      <td>0.000</td>\n",
       "    </tr>\n",
       "    <tr>\n",
       "      <th>1</th>\n",
       "      <td>4.237</td>\n",
       "      <td>1.851</td>\n",
       "      <td>0.908</td>\n",
       "    </tr>\n",
       "    <tr>\n",
       "      <th>2</th>\n",
       "      <td>4.062</td>\n",
       "      <td>0.711</td>\n",
       "      <td>0.279</td>\n",
       "    </tr>\n",
       "    <tr>\n",
       "      <th>3</th>\n",
       "      <td>4.430</td>\n",
       "      <td>1.264</td>\n",
       "      <td>1.086</td>\n",
       "    </tr>\n",
       "    <tr>\n",
       "      <th>4</th>\n",
       "      <td>50.656</td>\n",
       "      <td>24.768</td>\n",
       "      <td>24.613</td>\n",
       "    </tr>\n",
       "    <tr>\n",
       "      <th>...</th>\n",
       "      <td>...</td>\n",
       "      <td>...</td>\n",
       "      <td>...</td>\n",
       "    </tr>\n",
       "    <tr>\n",
       "      <th>7549</th>\n",
       "      <td>33.075</td>\n",
       "      <td>56.553</td>\n",
       "      <td>68.143</td>\n",
       "    </tr>\n",
       "    <tr>\n",
       "      <th>7550</th>\n",
       "      <td>33.597</td>\n",
       "      <td>64.834</td>\n",
       "      <td>66.853</td>\n",
       "    </tr>\n",
       "    <tr>\n",
       "      <th>7551</th>\n",
       "      <td>32.386</td>\n",
       "      <td>64.417</td>\n",
       "      <td>55.764</td>\n",
       "    </tr>\n",
       "    <tr>\n",
       "      <th>7552</th>\n",
       "      <td>30.465</td>\n",
       "      <td>58.613</td>\n",
       "      <td>49.168</td>\n",
       "    </tr>\n",
       "    <tr>\n",
       "      <th>7553</th>\n",
       "      <td>0.000</td>\n",
       "      <td>0.000</td>\n",
       "      <td>0.000</td>\n",
       "    </tr>\n",
       "  </tbody>\n",
       "</table>\n",
       "<p>7554 rows × 3 columns</p>\n",
       "</div>"
      ],
      "text/plain": [
       "        Head   LHand   RHand\n",
       "0      0.000   0.000   0.000\n",
       "1      4.237   1.851   0.908\n",
       "2      4.062   0.711   0.279\n",
       "3      4.430   1.264   1.086\n",
       "4     50.656  24.768  24.613\n",
       "...      ...     ...     ...\n",
       "7549  33.075  56.553  68.143\n",
       "7550  33.597  64.834  66.853\n",
       "7551  32.386  64.417  55.764\n",
       "7552  30.465  58.613  49.168\n",
       "7553   0.000   0.000   0.000\n",
       "\n",
       "[7554 rows x 3 columns]"
      ]
     },
     "execution_count": 39,
     "metadata": {},
     "output_type": "execute_result"
    }
   ],
   "source": [
    "P1_vel"
   ]
  },
  {
   "cell_type": "code",
   "execution_count": 30,
   "metadata": {},
   "outputs": [],
   "source": [
    "P1_vel_l_iqr = compute_IQR(P1_vel[\"LHand\"])\n",
    "P1_vel_r_iqr = compute_IQR(P1_vel[\"RHand\"])\n",
    "P1_vel_h_iqr = compute_IQR(P1_vel[\"Head\"])\n",
    "\n",
    "P2_vel_l_iqr = compute_IQR(P2_vel[\"LHand\"])\n",
    "P2_vel_r_iqr = compute_IQR(P2_vel[\"RHand\"])\n",
    "P2_vel_h_iqr = compute_IQR(P2_vel[\"Head\"])\n",
    "\n",
    "P3_vel_r_iqr = compute_IQR(P3_vel[\"RHand\"])\n",
    "P3_vel_l_iqr = compute_IQR(P3_vel[\"LHand\"])\n",
    "P3_vel_h_iqr = compute_IQR(P3_vel[\"Head\"])\n",
    "\n",
    "P4_vel_r_iqr = compute_IQR(P4_vel[\"RHand\"])\n",
    "P4_vel_l_iqr = compute_IQR(P4_vel[\"LHand\"])\n",
    "P4_vel_h_iqr = compute_IQR(P4_vel[\"Head\"])\n",
    "\n",
    "P5_vel_r_iqr = compute_IQR(P5_vel[\"RHand\"])\n",
    "P5_vel_l_iqr = compute_IQR(P5_vel[\"LHand\"])\n",
    "P5_vel_h_iqr = compute_IQR(P5_vel[\"Head\"])\n",
    "\n",
    "P6_vel_r_iqr = compute_IQR(P6_vel[\"RHand\"])\n",
    "P6_vel_l_iqr = compute_IQR(P6_vel[\"LHand\"])\n",
    "P6_vel_h_iqr = compute_IQR(P6_vel[\"Head\"])"
   ]
  },
  {
   "cell_type": "code",
   "execution_count": 31,
   "metadata": {},
   "outputs": [],
   "source": [
    "IQR_left = [P1_vel_l_iqr, P2_vel_l_iqr, P3_vel_l_iqr, P4_vel_l_iqr, P5_vel_l_iqr, P6_vel_l_iqr]\n",
    "IQR_right = [P1_vel_r_iqr, P2_vel_r_iqr,P3_vel_r_iqr,P4_vel_r_iqr,P5_vel_r_iqr,P6_vel_r_iqr]\n",
    "IQR_head = [P1_vel_h_iqr,P2_vel_h_iqr,P3_vel_h_iqr,P4_vel_h_iqr,P5_vel_h_iqr,P6_vel_h_iqr]"
   ]
  },
  {
   "cell_type": "code",
   "execution_count": 34,
   "metadata": {},
   "outputs": [],
   "source": [
    "P1_vel_mean = np.mean(P1_vel, axis=0).tolist()\n",
    "P1_vel_median = np.median(P1_vel, axis=0).tolist()\n",
    "P1_vel_max = np.max(P1_vel, axis=0).tolist()\n",
    "P1_vel_min = np.min(P1_vel, axis=0).tolist()\n",
    "P1_vel_harmonic_mean = (scipy.stats.hmean(P1_vel, axis=0)).tolist()\n"
   ]
  },
  {
   "cell_type": "code",
   "execution_count": 35,
   "metadata": {},
   "outputs": [],
   "source": [
    "P2_vel_mean = np.mean(P2_vel, axis=0).tolist()\n",
    "P2_vel_median = np.median(P2_vel,axis=0).tolist()\n",
    "P2_vel_max = np.max(P2_vel,axis=0).tolist()\n",
    "P2_vel_min = np.min(P2_vel,axis=0).tolist()\n",
    "P2_vel_harmonic_mean = (scipy.stats.hmean(P2_vel,axis=0)).tolist()"
   ]
  },
  {
   "cell_type": "code",
   "execution_count": 36,
   "metadata": {},
   "outputs": [],
   "source": [
    "P3_vel_mean = np.mean(P3_vel, axis=0).tolist()\n",
    "P3_vel_median = np.median(P3_vel, axis=0).tolist()\n",
    "P3_vel_max = np.max(P3_vel, axis=0).tolist()\n",
    "P3_vel_min = np.min(P3_vel, axis=0).tolist()\n",
    "P3_vel_harmonic_mean = (scipy.stats.hmean(P3_vel, axis=0)).tolist()"
   ]
  },
  {
   "cell_type": "code",
   "execution_count": 37,
   "metadata": {},
   "outputs": [],
   "source": [
    "P4_vel_mean = np.mean(P4_vel, axis=0).tolist()\n",
    "P4_vel_median = np.median(P4_vel, axis=0).tolist()\n",
    "P4_vel_max = np.max(P4_vel, axis=0).tolist()\n",
    "P4_vel_min = np.min(P4_vel, axis=0).tolist()\n",
    "P4_vel_harmonic_mean = (scipy.stats.hmean(P4_vel, axis=0)).tolist()"
   ]
  },
  {
   "cell_type": "code",
   "execution_count": 38,
   "metadata": {},
   "outputs": [],
   "source": [
    "P5_vel_mean = np.mean(P5_vel, axis=0).tolist()\n",
    "P5_vel_median = np.median(P5_vel, axis=0).tolist()\n",
    "P5_vel_max = np.max(P5_vel, axis=0).tolist()\n",
    "P5_vel_min = np.min(P5_vel, axis=0).tolist()\n",
    "P5_vel_harmonic_mean = (scipy.stats.hmean(P5_vel, axis=0)).tolist()"
   ]
  },
  {
   "cell_type": "code",
   "execution_count": 39,
   "metadata": {},
   "outputs": [],
   "source": [
    "P6_vel_mean = np.mean(P6_vel, axis=0).tolist()\n",
    "P6_vel_median = np.median(P6_vel, axis=0).tolist()\n",
    "P6_vel_max = np.max(P6_vel, axis=0).tolist()\n",
    "P6_vel_min = np.min(P6_vel, axis=0).tolist()\n",
    "P6_vel_harmonic_mean = (scipy.stats.hmean(P6_vel, axis=0)).tolist()"
   ]
  },
  {
   "cell_type": "code",
   "execution_count": 40,
   "metadata": {},
   "outputs": [],
   "source": [
    "vel_means = pd.DataFrame(list(zip(P1_vel_mean,P2_vel_mean,P3_vel_mean, P4_vel_mean, P5_vel_mean, P6_vel_mean)),columns=[\"1\", \"2\", \"3\", \"4\", \"5\", \"6\"])\n",
    "vel_means = vel_means.T\n",
    "vel_means.columns=[\"Head\", \"LHand\", \"RHand\"]"
   ]
  },
  {
   "cell_type": "code",
   "execution_count": 41,
   "metadata": {},
   "outputs": [],
   "source": [
    "vel_means[\"vel_head_iqr\"] = IQR_head\n",
    "vel_means[\"vel_lhand_iqr\"] = IQR_left\n",
    "vel_means[\"vel_rhand_iqr\"] = IQR_right"
   ]
  },
  {
   "cell_type": "code",
   "execution_count": 42,
   "metadata": {},
   "outputs": [],
   "source": [
    "vel_means.to_excel(\"velocity_means.xlsx\")  "
   ]
  },
  {
   "cell_type": "code",
   "execution_count": 90,
   "metadata": {},
   "outputs": [],
   "source": [
    "vel_max = pd.DataFrame(list(zip(P1_vel_max,P2_vel_max,P3_vel_max, P4_vel_max, P5_vel_max, P6_vel_max)),columns=[\"1\", \"2\", \"3\", \"4\", \"5\", \"6\"])\n",
    "vel_max = vel_max.T\n",
    "vel_max.columns=[\"Head\", \"LHand\", \"RHand\"]"
   ]
  },
  {
   "cell_type": "code",
   "execution_count": null,
   "metadata": {},
   "outputs": [],
   "source": [
    "vel_IQR = compute_IQR()"
   ]
  },
  {
   "cell_type": "code",
   "execution_count": 91,
   "metadata": {},
   "outputs": [
    {
     "data": {
      "text/html": [
       "<div>\n",
       "<style scoped>\n",
       "    .dataframe tbody tr th:only-of-type {\n",
       "        vertical-align: middle;\n",
       "    }\n",
       "\n",
       "    .dataframe tbody tr th {\n",
       "        vertical-align: top;\n",
       "    }\n",
       "\n",
       "    .dataframe thead th {\n",
       "        text-align: right;\n",
       "    }\n",
       "</style>\n",
       "<table border=\"1\" class=\"dataframe\">\n",
       "  <thead>\n",
       "    <tr style=\"text-align: right;\">\n",
       "      <th></th>\n",
       "      <th>Head</th>\n",
       "      <th>LHand</th>\n",
       "      <th>RHand</th>\n",
       "    </tr>\n",
       "  </thead>\n",
       "  <tbody>\n",
       "    <tr>\n",
       "      <th>1</th>\n",
       "      <td>554.819</td>\n",
       "      <td>1699.679</td>\n",
       "      <td>1302.751</td>\n",
       "    </tr>\n",
       "    <tr>\n",
       "      <th>2</th>\n",
       "      <td>743.359</td>\n",
       "      <td>1498.138</td>\n",
       "      <td>1784.046</td>\n",
       "    </tr>\n",
       "    <tr>\n",
       "      <th>3</th>\n",
       "      <td>383.606</td>\n",
       "      <td>1112.492</td>\n",
       "      <td>717.535</td>\n",
       "    </tr>\n",
       "    <tr>\n",
       "      <th>4</th>\n",
       "      <td>354.531</td>\n",
       "      <td>838.352</td>\n",
       "      <td>1076.599</td>\n",
       "    </tr>\n",
       "    <tr>\n",
       "      <th>5</th>\n",
       "      <td>248.894</td>\n",
       "      <td>469.395</td>\n",
       "      <td>420.172</td>\n",
       "    </tr>\n",
       "    <tr>\n",
       "      <th>6</th>\n",
       "      <td>416.118</td>\n",
       "      <td>1177.699</td>\n",
       "      <td>742.344</td>\n",
       "    </tr>\n",
       "  </tbody>\n",
       "</table>\n",
       "</div>"
      ],
      "text/plain": [
       "      Head     LHand     RHand\n",
       "1  554.819  1699.679  1302.751\n",
       "2  743.359  1498.138  1784.046\n",
       "3  383.606  1112.492   717.535\n",
       "4  354.531   838.352  1076.599\n",
       "5  248.894   469.395   420.172\n",
       "6  416.118  1177.699   742.344"
      ]
     },
     "execution_count": 91,
     "metadata": {},
     "output_type": "execute_result"
    }
   ],
   "source": [
    "vel_max"
   ]
  },
  {
   "cell_type": "code",
   "execution_count": 92,
   "metadata": {},
   "outputs": [],
   "source": [
    "vel_max.to_excel(\"velocity_max.xlsx\")  "
   ]
  },
  {
   "cell_type": "code",
   "execution_count": 93,
   "metadata": {},
   "outputs": [],
   "source": [
    "vel_min = pd.DataFrame(list(zip(P1_vel_min ,P2_vel_min ,P3_vel_min , P4_vel_min , P5_vel_min , P6_vel_min )),columns=[\"1\", \"2\", \"3\", \"4\", \"5\", \"6\"])\n",
    "vel_min = vel_min.T\n",
    "vel_min.columns=[\"Head\", \"LHand\", \"RHand\"]"
   ]
  },
  {
   "cell_type": "code",
   "execution_count": 94,
   "metadata": {},
   "outputs": [
    {
     "data": {
      "text/html": [
       "<div>\n",
       "<style scoped>\n",
       "    .dataframe tbody tr th:only-of-type {\n",
       "        vertical-align: middle;\n",
       "    }\n",
       "\n",
       "    .dataframe tbody tr th {\n",
       "        vertical-align: top;\n",
       "    }\n",
       "\n",
       "    .dataframe thead th {\n",
       "        text-align: right;\n",
       "    }\n",
       "</style>\n",
       "<table border=\"1\" class=\"dataframe\">\n",
       "  <thead>\n",
       "    <tr style=\"text-align: right;\">\n",
       "      <th></th>\n",
       "      <th>Head</th>\n",
       "      <th>LHand</th>\n",
       "      <th>RHand</th>\n",
       "    </tr>\n",
       "  </thead>\n",
       "  <tbody>\n",
       "    <tr>\n",
       "      <th>1</th>\n",
       "      <td>0.0</td>\n",
       "      <td>0.0</td>\n",
       "      <td>0.0</td>\n",
       "    </tr>\n",
       "    <tr>\n",
       "      <th>2</th>\n",
       "      <td>0.0</td>\n",
       "      <td>0.0</td>\n",
       "      <td>0.0</td>\n",
       "    </tr>\n",
       "    <tr>\n",
       "      <th>3</th>\n",
       "      <td>0.0</td>\n",
       "      <td>0.0</td>\n",
       "      <td>0.0</td>\n",
       "    </tr>\n",
       "    <tr>\n",
       "      <th>4</th>\n",
       "      <td>0.0</td>\n",
       "      <td>0.0</td>\n",
       "      <td>0.0</td>\n",
       "    </tr>\n",
       "    <tr>\n",
       "      <th>5</th>\n",
       "      <td>0.0</td>\n",
       "      <td>0.0</td>\n",
       "      <td>0.0</td>\n",
       "    </tr>\n",
       "    <tr>\n",
       "      <th>6</th>\n",
       "      <td>0.0</td>\n",
       "      <td>0.0</td>\n",
       "      <td>0.0</td>\n",
       "    </tr>\n",
       "  </tbody>\n",
       "</table>\n",
       "</div>"
      ],
      "text/plain": [
       "   Head  LHand  RHand\n",
       "1   0.0    0.0    0.0\n",
       "2   0.0    0.0    0.0\n",
       "3   0.0    0.0    0.0\n",
       "4   0.0    0.0    0.0\n",
       "5   0.0    0.0    0.0\n",
       "6   0.0    0.0    0.0"
      ]
     },
     "execution_count": 94,
     "metadata": {},
     "output_type": "execute_result"
    }
   ],
   "source": [
    "vel_min"
   ]
  },
  {
   "cell_type": "code",
   "execution_count": 95,
   "metadata": {},
   "outputs": [],
   "source": [
    "vel_median = pd.DataFrame(list(zip(P1_vel_median ,P2_vel_median ,P3_vel_median , P4_vel_median , P5_vel_median , P6_vel_median )),columns=[\"1\", \"2\", \"3\", \"4\", \"5\", \"6\"])\n",
    "vel_median = vel_median.T\n",
    "vel_median.columns=[\"Head\", \"LHand\", \"RHand\"]"
   ]
  },
  {
   "cell_type": "code",
   "execution_count": 96,
   "metadata": {},
   "outputs": [],
   "source": [
    "vel_median.to_excel(\"velocity_median.xlsx\")"
   ]
  },
  {
   "cell_type": "markdown",
   "metadata": {},
   "source": [
    "Head positions - we already have the velocity - angle possibly between both shoulders? "
   ]
  },
  {
   "cell_type": "code",
   "execution_count": 7,
   "metadata": {},
   "outputs": [],
   "source": [
    "P1_head_pos = pd.read_table(\"C:/Users/sarah/Desktop/W2023 MoCap Data/Motioncapture_tsv_files/P1_dist_traveled/conv_P1&2_edited_pos_head.tsv\", delimiter=\"\\t\", header = 0)\n",
    "#P2_head_pos = pd.read_table(\"C:/Users/sarah/Desktop/W2023 MoCap Data/Motioncapture_tsv_files/P2_dist_traveled/conv_P2&1_e_P2_vel.tsv\", delimiter=\"\\t\", header = 0)\n",
    "#P3_head_pos = pd.read_table(\"C:/Users/sarah/Desktop/W2023 MoCap Data/Motioncapture_tsv_files/P3_dist_traveled/conv_P3&4_e_P3_vel.tsv\", delimiter=\"\\t\", header = 0)\n",
    "#P4_head_pos = pd.read_table(\"C:/Users/sarah/Desktop/W2023 MoCap Data/Motioncapture_tsv_files/P4_dist_traveled/conv_P4&3_e_P4_vel.tsv\", delimiter=\"\\t\", header = 0)\n",
    "#P5_head_pos = pd.read_table(\"C:/Users/sarah/Desktop/W2023 MoCap Data/Motioncapture_tsv_files/P5_dist_traveled/conv_P5&6_e_P5_vel.tsv\", delimiter=\"\\t\", header = 0)\n",
    "#P6_head_pos = pd.read_table(\"C:/Users/sarah/Desktop/W2023 MoCap Data/Motioncapture_tsv_files/P6_dist_traveled/conv_P6&5_e_P6_vel.tsv\", delimiter=\"\\t\", header = 0) "
   ]
  },
  {
   "cell_type": "code",
   "execution_count": 8,
   "metadata": {},
   "outputs": [],
   "source": [
    "P1_head_angle = pd.read_table(\"C:/Users/sarah/Desktop/W2023 MoCap Data/Motioncapture_tsv_files/P1_dist_traveled/conv_P1&2_edited_head_Angle.tsv\", delimiter=\"\\t\", header = 0)\n",
    "#P2_head_angle = pd.read_table(\"C:/Users/sarah/Desktop/W2023 MoCap Data/Motioncapture_tsv_files/P2_dist_traveled/conv_P2&1_e_P2_vel.tsv\", delimiter=\"\\t\", header = 0)\n",
    "#P3_head_angle = pd.read_table(\"C:/Users/sarah/Desktop/W2023 MoCap Data/Motioncapture_tsv_files/P3_dist_traveled/conv_P3&4_e_P3_vel.tsv\", delimiter=\"\\t\", header = 0)\n",
    "#P4_head_angle = pd.read_table(\"C:/Users/sarah/Desktop/W2023 MoCap Data/Motioncapture_tsv_files/P4_dist_traveled/conv_P4&3_e_P4_vel.tsv\", delimiter=\"\\t\", header = 0)\n",
    "#P5_head_angle = pd.read_table(\"C:/Users/sarah/Desktop/W2023 MoCap Data/Motioncapture_tsv_files/P5_dist_traveled/conv_P5&6_e_P5_vel.tsv\", delimiter=\"\\t\", header = 0)\n",
    "#P6_head_angle = pd.read_table(\"C:/Users/sarah/Desktop/W2023 MoCap Data/Motioncapture_tsv_files/P6_dist_traveled/conv_P6&5_e_P6_vel.tsv\", delimiter=\"\\t\", header = 0)"
   ]
  },
  {
   "cell_type": "code",
   "execution_count": 10,
   "metadata": {},
   "outputs": [
    {
     "data": {
      "text/plain": [
       "[<matplotlib.lines.Line2D at 0x24a3dcaf7d0>]"
      ]
     },
     "execution_count": 10,
     "metadata": {},
     "output_type": "execute_result"
    },
    {
     "data": {
      "image/png": "[encoded data removed]",
      "text/plain": [
       "<Figure size 900x700 with 1 Axes>"
      ]
     },
     "metadata": {},
     "output_type": "display_data"
    }
   ],
   "source": [
    "plt.figure(figsize=(9,7))\n",
    "plt.plot(P1_head_angle)"
   ]
  },
  {
   "cell_type": "markdown",
   "metadata": {},
   "source": [
    "According to video, he just leaned forward here and turned his head to the right, at ~3700 again, at ~4200 again as well as at 5000 frames. <br>\n",
    "At 6000 frames he looked down!"
   ]
  },
  {
   "cell_type": "code",
   "execution_count": 11,
   "metadata": {},
   "outputs": [
    {
     "data": {
      "text/html": [
       "<div>\n",
       "<style scoped>\n",
       "    .dataframe tbody tr th:only-of-type {\n",
       "        vertical-align: middle;\n",
       "    }\n",
       "\n",
       "    .dataframe tbody tr th {\n",
       "        vertical-align: top;\n",
       "    }\n",
       "\n",
       "    .dataframe thead th {\n",
       "        text-align: right;\n",
       "    }\n",
       "</style>\n",
       "<table border=\"1\" class=\"dataframe\">\n",
       "  <thead>\n",
       "    <tr style=\"text-align: right;\">\n",
       "      <th></th>\n",
       "      <th>P1_head_pos_head_X</th>\n",
       "      <th>P1_head_pos_head_Y</th>\n",
       "      <th>P1_head_pos_head_Z</th>\n",
       "    </tr>\n",
       "  </thead>\n",
       "  <tbody>\n",
       "    <tr>\n",
       "      <th>0</th>\n",
       "      <td>-139.562</td>\n",
       "      <td>42.368</td>\n",
       "      <td>1271.287</td>\n",
       "    </tr>\n",
       "    <tr>\n",
       "      <th>1</th>\n",
       "      <td>-139.520</td>\n",
       "      <td>42.383</td>\n",
       "      <td>1271.275</td>\n",
       "    </tr>\n",
       "    <tr>\n",
       "      <th>2</th>\n",
       "      <td>-139.480</td>\n",
       "      <td>42.374</td>\n",
       "      <td>1271.266</td>\n",
       "    </tr>\n",
       "    <tr>\n",
       "      <th>3</th>\n",
       "      <td>-139.447</td>\n",
       "      <td>42.367</td>\n",
       "      <td>1271.245</td>\n",
       "    </tr>\n",
       "    <tr>\n",
       "      <th>4</th>\n",
       "      <td>-139.400</td>\n",
       "      <td>42.361</td>\n",
       "      <td>1271.231</td>\n",
       "    </tr>\n",
       "    <tr>\n",
       "      <th>...</th>\n",
       "      <td>...</td>\n",
       "      <td>...</td>\n",
       "      <td>...</td>\n",
       "    </tr>\n",
       "    <tr>\n",
       "      <th>7549</th>\n",
       "      <td>-100.269</td>\n",
       "      <td>-85.979</td>\n",
       "      <td>1252.127</td>\n",
       "    </tr>\n",
       "    <tr>\n",
       "      <th>7550</th>\n",
       "      <td>-100.390</td>\n",
       "      <td>-86.294</td>\n",
       "      <td>1252.123</td>\n",
       "    </tr>\n",
       "    <tr>\n",
       "      <th>7551</th>\n",
       "      <td>-100.537</td>\n",
       "      <td>-86.595</td>\n",
       "      <td>1252.115</td>\n",
       "    </tr>\n",
       "    <tr>\n",
       "      <th>7552</th>\n",
       "      <td>-100.661</td>\n",
       "      <td>-86.882</td>\n",
       "      <td>1252.104</td>\n",
       "    </tr>\n",
       "    <tr>\n",
       "      <th>7553</th>\n",
       "      <td>-100.817</td>\n",
       "      <td>-87.136</td>\n",
       "      <td>1252.103</td>\n",
       "    </tr>\n",
       "  </tbody>\n",
       "</table>\n",
       "<p>7554 rows × 3 columns</p>\n",
       "</div>"
      ],
      "text/plain": [
       "      P1_head_pos_head_X  P1_head_pos_head_Y  P1_head_pos_head_Z\n",
       "0               -139.562              42.368            1271.287\n",
       "1               -139.520              42.383            1271.275\n",
       "2               -139.480              42.374            1271.266\n",
       "3               -139.447              42.367            1271.245\n",
       "4               -139.400              42.361            1271.231\n",
       "...                  ...                 ...                 ...\n",
       "7549            -100.269             -85.979            1252.127\n",
       "7550            -100.390             -86.294            1252.123\n",
       "7551            -100.537             -86.595            1252.115\n",
       "7552            -100.661             -86.882            1252.104\n",
       "7553            -100.817             -87.136            1252.103\n",
       "\n",
       "[7554 rows x 3 columns]"
      ]
     },
     "execution_count": 11,
     "metadata": {},
     "output_type": "execute_result"
    }
   ],
   "source": [
    "P1_head_pos"
   ]
  },
  {
   "cell_type": "code",
   "execution_count": null,
   "metadata": {},
   "outputs": [],
   "source": []
  },
  {
   "cell_type": "code",
   "execution_count": 13,
   "metadata": {},
   "outputs": [
    {
     "data": {
      "image/png": "[encoded data removed]",
      "text/plain": [
       "<Figure size 900x700 with 1 Axes>"
      ]
     },
     "metadata": {},
     "output_type": "display_data"
    }
   ],
   "source": [
    "plt.figure(figsize = (9, 7))\n",
    "for col in [\"P1_head_pos_head_X\", \"P1_head_pos_head_Y\", \"P1_head_pos_head_Z\"]: \n",
    "    plt.plot(P1_head_pos.index, P1_head_pos[col], label=f\"{col}\")\n",
    "    plt.title('Head - positions over time in all 3 dimensions')\n",
    "    plt.xlabel('Frame')\n",
    "    plt.ylabel('Distance in mm')\n",
    "    plt.legend()\n",
    "    #plt.savefig(\"P1_head_dist.png\")"
   ]
  },
  {
   "cell_type": "markdown",
   "metadata": {},
   "source": [
    "The same phenomenon is visible, although some datapoints are a little bit confusing at times."
   ]
  },
  {
   "cell_type": "code",
   "execution_count": null,
   "metadata": {},
   "outputs": [],
   "source": []
  },
  {
   "cell_type": "code",
   "execution_count": null,
   "metadata": {},
   "outputs": [],
   "source": []
  }
 ],
 "metadata": {
  "kernelspec": {
   "display_name": "Python 3",
   "language": "python",
   "name": "python3"
  },
  "language_info": {
   "codemirror_mode": {
    "name": "ipython",
    "version": 3
   },
   "file_extension": ".py",
   "mimetype": "text/x-python",
   "name": "python",
   "nbconvert_exporter": "python",
   "pygments_lexer": "ipython3",
   "version": "3.12.0"
  }
 },
 "nbformat": 4,
 "nbformat_minor": 2
}
